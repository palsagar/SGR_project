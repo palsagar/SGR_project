{
 "cells": [
  {
   "cell_type": "markdown",
   "metadata": {},
   "source": [
    "# Analysis of referendum vote \n",
    "\n",
    "We are interested in deriving insights from the outcomes of a hypothetical referendum vote, concerning the territories under French administration."
   ]
  },
  {
   "cell_type": "markdown",
   "metadata": {},
   "source": [
    "## Understanding the data\n",
    "\n",
    "We first try to develop an understanding of the basic structure of the dataset `Referendum.csv`. "
   ]
  },
  {
   "cell_type": "markdown",
   "metadata": {},
   "source": [
    "### Importing essential libraries "
   ]
  },
  {
   "cell_type": "code",
   "execution_count": 13,
   "metadata": {},
   "outputs": [],
   "source": [
    "import numpy as np\n",
    "import pandas as pd\n",
    "%matplotlib inline\n",
    "import matplotlib.pyplot as plt\n",
    "import seaborn as sns"
   ]
  },
  {
   "cell_type": "markdown",
   "metadata": {},
   "source": [
    "#### Reading the dataset into a pandas dataframe"
   ]
  },
  {
   "cell_type": "code",
   "execution_count": 2,
   "metadata": {},
   "outputs": [],
   "source": [
    "data = pd.read_csv(\"Referendum.csv\", sep=\";\")"
   ]
  },
  {
   "cell_type": "markdown",
   "metadata": {},
   "source": [
    "### Different fields of information "
   ]
  },
  {
   "cell_type": "code",
   "execution_count": 3,
   "metadata": {},
   "outputs": [
    {
     "data": {
      "text/plain": [
       "Index(['Code du département', 'Libellé du département', 'Code de la commune',\n",
       "       'Libellé de la commune', 'Inscrits', 'Abstentions', 'Blancs et nuls',\n",
       "       'Choix A', 'Choix B'],\n",
       "      dtype='object')"
      ]
     },
     "execution_count": 3,
     "metadata": {},
     "output_type": "execute_result"
    }
   ],
   "source": [
    "data.columns"
   ]
  },
  {
   "cell_type": "markdown",
   "metadata": {},
   "source": [
    "Inferring from the column labels, we can create a data dictionary as follows : \n",
    "* **Code du département** : Identification code of the French administrative entity *département* . \n",
    "* **Libellé du département** : Name of the *département*\n",
    "* **Code de la commune** : Identification code of the French administrative entity *commune* . \n",
    "* **Libellé de la commune** : Name of the *commune*\n",
    "* **Inscrits** : Number of registered voters in the commune\n",
    "* **Abstentions** : Number of registered voters who were absent during voting\n",
    "* **Blancs et nuls** : Number of registered voters who cast a blank vote\n",
    "* **Choix A** : Number of registered voters who voted for the first option\n",
    "* **Choix B** : Number of registered voters who voted for the second option"
   ]
  },
  {
   "cell_type": "markdown",
   "metadata": {},
   "source": [
    "### First few rows of the dataset "
   ]
  },
  {
   "cell_type": "code",
   "execution_count": 4,
   "metadata": {},
   "outputs": [
    {
     "data": {
      "text/html": [
       "<div>\n",
       "<style scoped>\n",
       "    .dataframe tbody tr th:only-of-type {\n",
       "        vertical-align: middle;\n",
       "    }\n",
       "\n",
       "    .dataframe tbody tr th {\n",
       "        vertical-align: top;\n",
       "    }\n",
       "\n",
       "    .dataframe thead th {\n",
       "        text-align: right;\n",
       "    }\n",
       "</style>\n",
       "<table border=\"1\" class=\"dataframe\">\n",
       "  <thead>\n",
       "    <tr style=\"text-align: right;\">\n",
       "      <th></th>\n",
       "      <th>Code du département</th>\n",
       "      <th>Libellé du département</th>\n",
       "      <th>Code de la commune</th>\n",
       "      <th>Libellé de la commune</th>\n",
       "      <th>Inscrits</th>\n",
       "      <th>Abstentions</th>\n",
       "      <th>Blancs et nuls</th>\n",
       "      <th>Choix A</th>\n",
       "      <th>Choix B</th>\n",
       "    </tr>\n",
       "  </thead>\n",
       "  <tbody>\n",
       "    <tr>\n",
       "      <th>0</th>\n",
       "      <td>1</td>\n",
       "      <td>AIN</td>\n",
       "      <td>1</td>\n",
       "      <td>L'Abergement-Clémenciat</td>\n",
       "      <td>592</td>\n",
       "      <td>84</td>\n",
       "      <td>9</td>\n",
       "      <td>154</td>\n",
       "      <td>345</td>\n",
       "    </tr>\n",
       "    <tr>\n",
       "      <th>1</th>\n",
       "      <td>1</td>\n",
       "      <td>AIN</td>\n",
       "      <td>2</td>\n",
       "      <td>L'Abergement-de-Varey</td>\n",
       "      <td>215</td>\n",
       "      <td>36</td>\n",
       "      <td>5</td>\n",
       "      <td>66</td>\n",
       "      <td>108</td>\n",
       "    </tr>\n",
       "    <tr>\n",
       "      <th>2</th>\n",
       "      <td>1</td>\n",
       "      <td>AIN</td>\n",
       "      <td>4</td>\n",
       "      <td>Ambérieu-en-Bugey</td>\n",
       "      <td>8205</td>\n",
       "      <td>1698</td>\n",
       "      <td>126</td>\n",
       "      <td>2717</td>\n",
       "      <td>3664</td>\n",
       "    </tr>\n",
       "    <tr>\n",
       "      <th>3</th>\n",
       "      <td>1</td>\n",
       "      <td>AIN</td>\n",
       "      <td>5</td>\n",
       "      <td>Ambérieux-en-Dombes</td>\n",
       "      <td>1152</td>\n",
       "      <td>170</td>\n",
       "      <td>18</td>\n",
       "      <td>280</td>\n",
       "      <td>684</td>\n",
       "    </tr>\n",
       "    <tr>\n",
       "      <th>4</th>\n",
       "      <td>1</td>\n",
       "      <td>AIN</td>\n",
       "      <td>6</td>\n",
       "      <td>Ambléon</td>\n",
       "      <td>105</td>\n",
       "      <td>17</td>\n",
       "      <td>1</td>\n",
       "      <td>35</td>\n",
       "      <td>52</td>\n",
       "    </tr>\n",
       "    <tr>\n",
       "      <th>5</th>\n",
       "      <td>1</td>\n",
       "      <td>AIN</td>\n",
       "      <td>7</td>\n",
       "      <td>Ambronay</td>\n",
       "      <td>1702</td>\n",
       "      <td>222</td>\n",
       "      <td>29</td>\n",
       "      <td>570</td>\n",
       "      <td>881</td>\n",
       "    </tr>\n",
       "    <tr>\n",
       "      <th>6</th>\n",
       "      <td>1</td>\n",
       "      <td>AIN</td>\n",
       "      <td>8</td>\n",
       "      <td>Ambutrix</td>\n",
       "      <td>549</td>\n",
       "      <td>68</td>\n",
       "      <td>7</td>\n",
       "      <td>192</td>\n",
       "      <td>282</td>\n",
       "    </tr>\n",
       "    <tr>\n",
       "      <th>7</th>\n",
       "      <td>1</td>\n",
       "      <td>AIN</td>\n",
       "      <td>9</td>\n",
       "      <td>Andert-et-Condon</td>\n",
       "      <td>269</td>\n",
       "      <td>40</td>\n",
       "      <td>4</td>\n",
       "      <td>81</td>\n",
       "      <td>144</td>\n",
       "    </tr>\n",
       "    <tr>\n",
       "      <th>8</th>\n",
       "      <td>1</td>\n",
       "      <td>AIN</td>\n",
       "      <td>10</td>\n",
       "      <td>Anglefort</td>\n",
       "      <td>681</td>\n",
       "      <td>99</td>\n",
       "      <td>12</td>\n",
       "      <td>222</td>\n",
       "      <td>348</td>\n",
       "    </tr>\n",
       "    <tr>\n",
       "      <th>9</th>\n",
       "      <td>1</td>\n",
       "      <td>AIN</td>\n",
       "      <td>11</td>\n",
       "      <td>Apremont</td>\n",
       "      <td>255</td>\n",
       "      <td>30</td>\n",
       "      <td>7</td>\n",
       "      <td>77</td>\n",
       "      <td>141</td>\n",
       "    </tr>\n",
       "  </tbody>\n",
       "</table>\n",
       "</div>"
      ],
      "text/plain": [
       "  Code du département Libellé du département  Code de la commune  \\\n",
       "0                   1                    AIN                   1   \n",
       "1                   1                    AIN                   2   \n",
       "2                   1                    AIN                   4   \n",
       "3                   1                    AIN                   5   \n",
       "4                   1                    AIN                   6   \n",
       "5                   1                    AIN                   7   \n",
       "6                   1                    AIN                   8   \n",
       "7                   1                    AIN                   9   \n",
       "8                   1                    AIN                  10   \n",
       "9                   1                    AIN                  11   \n",
       "\n",
       "     Libellé de la commune  Inscrits  Abstentions  Blancs et nuls  Choix A  \\\n",
       "0  L'Abergement-Clémenciat       592           84               9      154   \n",
       "1    L'Abergement-de-Varey       215           36               5       66   \n",
       "2        Ambérieu-en-Bugey      8205         1698             126     2717   \n",
       "3      Ambérieux-en-Dombes      1152          170              18      280   \n",
       "4                  Ambléon       105           17               1       35   \n",
       "5                 Ambronay      1702          222              29      570   \n",
       "6                 Ambutrix       549           68               7      192   \n",
       "7         Andert-et-Condon       269           40               4       81   \n",
       "8                Anglefort       681           99              12      222   \n",
       "9                 Apremont       255           30               7       77   \n",
       "\n",
       "   Choix B  \n",
       "0      345  \n",
       "1      108  \n",
       "2     3664  \n",
       "3      684  \n",
       "4       52  \n",
       "5      881  \n",
       "6      282  \n",
       "7      144  \n",
       "8      348  \n",
       "9      141  "
      ]
     },
     "execution_count": 4,
     "metadata": {},
     "output_type": "execute_result"
    }
   ],
   "source": [
    "data.head(10)"
   ]
  },
  {
   "cell_type": "markdown",
   "metadata": {},
   "source": [
    "### Last few rows of the dataset"
   ]
  },
  {
   "cell_type": "code",
   "execution_count": 5,
   "metadata": {},
   "outputs": [
    {
     "data": {
      "text/html": [
       "<div>\n",
       "<style scoped>\n",
       "    .dataframe tbody tr th:only-of-type {\n",
       "        vertical-align: middle;\n",
       "    }\n",
       "\n",
       "    .dataframe tbody tr th {\n",
       "        vertical-align: top;\n",
       "    }\n",
       "\n",
       "    .dataframe thead th {\n",
       "        text-align: right;\n",
       "    }\n",
       "</style>\n",
       "<table border=\"1\" class=\"dataframe\">\n",
       "  <thead>\n",
       "    <tr style=\"text-align: right;\">\n",
       "      <th></th>\n",
       "      <th>Code du département</th>\n",
       "      <th>Libellé du département</th>\n",
       "      <th>Code de la commune</th>\n",
       "      <th>Libellé de la commune</th>\n",
       "      <th>Inscrits</th>\n",
       "      <th>Abstentions</th>\n",
       "      <th>Blancs et nuls</th>\n",
       "      <th>Choix A</th>\n",
       "      <th>Choix B</th>\n",
       "    </tr>\n",
       "  </thead>\n",
       "  <tbody>\n",
       "    <tr>\n",
       "      <th>36781</th>\n",
       "      <td>ZZ</td>\n",
       "      <td>FRANCAIS DE L'ETRANGER</td>\n",
       "      <td>2</td>\n",
       "      <td>Amérique latine</td>\n",
       "      <td>73912</td>\n",
       "      <td>52648</td>\n",
       "      <td>363</td>\n",
       "      <td>9456</td>\n",
       "      <td>11445</td>\n",
       "    </tr>\n",
       "    <tr>\n",
       "      <th>36782</th>\n",
       "      <td>ZZ</td>\n",
       "      <td>FRANCAIS DE L'ETRANGER</td>\n",
       "      <td>3</td>\n",
       "      <td>Europe du Nord</td>\n",
       "      <td>88133</td>\n",
       "      <td>59723</td>\n",
       "      <td>269</td>\n",
       "      <td>13414</td>\n",
       "      <td>14727</td>\n",
       "    </tr>\n",
       "    <tr>\n",
       "      <th>36783</th>\n",
       "      <td>ZZ</td>\n",
       "      <td>FRANCAIS DE L'ETRANGER</td>\n",
       "      <td>4</td>\n",
       "      <td>Benelux</td>\n",
       "      <td>95182</td>\n",
       "      <td>46980</td>\n",
       "      <td>432</td>\n",
       "      <td>20274</td>\n",
       "      <td>27496</td>\n",
       "    </tr>\n",
       "    <tr>\n",
       "      <th>36784</th>\n",
       "      <td>ZZ</td>\n",
       "      <td>FRANCAIS DE L'ETRANGER</td>\n",
       "      <td>5</td>\n",
       "      <td>Péninsule ibérique et Monaco</td>\n",
       "      <td>80761</td>\n",
       "      <td>53215</td>\n",
       "      <td>305</td>\n",
       "      <td>11856</td>\n",
       "      <td>15385</td>\n",
       "    </tr>\n",
       "    <tr>\n",
       "      <th>36785</th>\n",
       "      <td>ZZ</td>\n",
       "      <td>FRANCAIS DE L'ETRANGER</td>\n",
       "      <td>6</td>\n",
       "      <td>Suisse</td>\n",
       "      <td>79508</td>\n",
       "      <td>29458</td>\n",
       "      <td>514</td>\n",
       "      <td>16971</td>\n",
       "      <td>32565</td>\n",
       "    </tr>\n",
       "    <tr>\n",
       "      <th>36786</th>\n",
       "      <td>ZZ</td>\n",
       "      <td>FRANCAIS DE L'ETRANGER</td>\n",
       "      <td>7</td>\n",
       "      <td>Europe centrale</td>\n",
       "      <td>89643</td>\n",
       "      <td>54981</td>\n",
       "      <td>318</td>\n",
       "      <td>17055</td>\n",
       "      <td>17289</td>\n",
       "    </tr>\n",
       "    <tr>\n",
       "      <th>36787</th>\n",
       "      <td>ZZ</td>\n",
       "      <td>FRANCAIS DE L'ETRANGER</td>\n",
       "      <td>8</td>\n",
       "      <td>Europe du Sud, Turquie, Israël</td>\n",
       "      <td>109763</td>\n",
       "      <td>84466</td>\n",
       "      <td>292</td>\n",
       "      <td>9299</td>\n",
       "      <td>15706</td>\n",
       "    </tr>\n",
       "    <tr>\n",
       "      <th>36788</th>\n",
       "      <td>ZZ</td>\n",
       "      <td>FRANCAIS DE L'ETRANGER</td>\n",
       "      <td>9</td>\n",
       "      <td>Afrique Nord-Ouest</td>\n",
       "      <td>98997</td>\n",
       "      <td>59887</td>\n",
       "      <td>321</td>\n",
       "      <td>22116</td>\n",
       "      <td>16673</td>\n",
       "    </tr>\n",
       "    <tr>\n",
       "      <th>36789</th>\n",
       "      <td>ZZ</td>\n",
       "      <td>FRANCAIS DE L'ETRANGER</td>\n",
       "      <td>10</td>\n",
       "      <td>Afrique Centre, Sud et Est</td>\n",
       "      <td>89859</td>\n",
       "      <td>46782</td>\n",
       "      <td>566</td>\n",
       "      <td>17008</td>\n",
       "      <td>25503</td>\n",
       "    </tr>\n",
       "    <tr>\n",
       "      <th>36790</th>\n",
       "      <td>ZZ</td>\n",
       "      <td>FRANCAIS DE L'ETRANGER</td>\n",
       "      <td>11</td>\n",
       "      <td>Europe de l'est, Asie, Océanie</td>\n",
       "      <td>80061</td>\n",
       "      <td>42911</td>\n",
       "      <td>488</td>\n",
       "      <td>13975</td>\n",
       "      <td>22687</td>\n",
       "    </tr>\n",
       "  </tbody>\n",
       "</table>\n",
       "</div>"
      ],
      "text/plain": [
       "      Code du département  Libellé du département  Code de la commune  \\\n",
       "36781                  ZZ  FRANCAIS DE L'ETRANGER                   2   \n",
       "36782                  ZZ  FRANCAIS DE L'ETRANGER                   3   \n",
       "36783                  ZZ  FRANCAIS DE L'ETRANGER                   4   \n",
       "36784                  ZZ  FRANCAIS DE L'ETRANGER                   5   \n",
       "36785                  ZZ  FRANCAIS DE L'ETRANGER                   6   \n",
       "36786                  ZZ  FRANCAIS DE L'ETRANGER                   7   \n",
       "36787                  ZZ  FRANCAIS DE L'ETRANGER                   8   \n",
       "36788                  ZZ  FRANCAIS DE L'ETRANGER                   9   \n",
       "36789                  ZZ  FRANCAIS DE L'ETRANGER                  10   \n",
       "36790                  ZZ  FRANCAIS DE L'ETRANGER                  11   \n",
       "\n",
       "                Libellé de la commune  Inscrits  Abstentions  Blancs et nuls  \\\n",
       "36781                 Amérique latine     73912        52648             363   \n",
       "36782                  Europe du Nord     88133        59723             269   \n",
       "36783                         Benelux     95182        46980             432   \n",
       "36784    Péninsule ibérique et Monaco     80761        53215             305   \n",
       "36785                          Suisse     79508        29458             514   \n",
       "36786                 Europe centrale     89643        54981             318   \n",
       "36787  Europe du Sud, Turquie, Israël    109763        84466             292   \n",
       "36788              Afrique Nord-Ouest     98997        59887             321   \n",
       "36789      Afrique Centre, Sud et Est     89859        46782             566   \n",
       "36790  Europe de l'est, Asie, Océanie     80061        42911             488   \n",
       "\n",
       "       Choix A  Choix B  \n",
       "36781     9456    11445  \n",
       "36782    13414    14727  \n",
       "36783    20274    27496  \n",
       "36784    11856    15385  \n",
       "36785    16971    32565  \n",
       "36786    17055    17289  \n",
       "36787     9299    15706  \n",
       "36788    22116    16673  \n",
       "36789    17008    25503  \n",
       "36790    13975    22687  "
      ]
     },
     "execution_count": 5,
     "metadata": {},
     "output_type": "execute_result"
    }
   ],
   "source": [
    "data.tail(10)"
   ]
  },
  {
   "cell_type": "markdown",
   "metadata": {},
   "source": [
    "> We observe that the field \"Code du département\" contains numerical as well as string (alphabetical) values. "
   ]
  },
  {
   "cell_type": "markdown",
   "metadata": {},
   "source": [
    "### General description of the dataset"
   ]
  },
  {
   "cell_type": "code",
   "execution_count": 6,
   "metadata": {},
   "outputs": [
    {
     "name": "stdout",
     "output_type": "stream",
     "text": [
      "<class 'pandas.core.frame.DataFrame'>\n",
      "RangeIndex: 36791 entries, 0 to 36790\n",
      "Data columns (total 9 columns):\n",
      " #   Column                  Non-Null Count  Dtype \n",
      "---  ------                  --------------  ----- \n",
      " 0   Code du département     36791 non-null  object\n",
      " 1   Libellé du département  36791 non-null  object\n",
      " 2   Code de la commune      36791 non-null  int64 \n",
      " 3   Libellé de la commune   36791 non-null  object\n",
      " 4   Inscrits                36791 non-null  int64 \n",
      " 5   Abstentions             36791 non-null  int64 \n",
      " 6   Blancs et nuls          36791 non-null  int64 \n",
      " 7   Choix A                 36791 non-null  int64 \n",
      " 8   Choix B                 36791 non-null  int64 \n",
      "dtypes: int64(6), object(3)\n",
      "memory usage: 2.5+ MB\n"
     ]
    }
   ],
   "source": [
    "data.info()"
   ]
  },
  {
   "cell_type": "markdown",
   "metadata": {},
   "source": [
    "Our dataset contains 36791 instances (rows) and 9 attributes, with no immediately visible null values.  "
   ]
  },
  {
   "cell_type": "markdown",
   "metadata": {},
   "source": [
    "> The only string type objects in the dataset are under the fields \"Code du département\" , \"Libellé du département\" and \"Libellé de la commune\", where the first field is stored as string objects as it contains alphanumeric values. "
   ]
  },
  {
   "cell_type": "markdown",
   "metadata": {},
   "source": [
    "### Renaming columns\n",
    "We start by modifying the column names so that they're easier to manipulate. "
   ]
  },
  {
   "cell_type": "code",
   "execution_count": 7,
   "metadata": {},
   "outputs": [
    {
     "data": {
      "text/plain": [
       "Index(['dep_code', 'dep_label', 'com_code', 'com_label', 'registered',\n",
       "       'absent', 'no_vote', 'choice_a', 'choice_b'],\n",
       "      dtype='object')"
      ]
     },
     "execution_count": 7,
     "metadata": {},
     "output_type": "execute_result"
    }
   ],
   "source": [
    "mapping = { \"Code du département\": \"dep_code\" ,\n",
    "            \"Libellé du département\" : \"dep_label\" ,\n",
    "            \"Code de la commune\" : \"com_code\" , \n",
    "            \"Libellé de la commune\" : \"com_label\" , \n",
    "            \"Inscrits\" : \"registered\" , \n",
    "            \"Abstentions\" : \"absent\" ,\n",
    "            \"Blancs et nuls\" : \"no_vote\" , \n",
    "            \"Choix A\" : \"choice_a\" , \n",
    "            \"Choix B\" : \"choice_b\"}\n",
    "\n",
    "data = data.rename(mapping , axis=1)\n",
    "data.columns"
   ]
  },
  {
   "cell_type": "markdown",
   "metadata": {},
   "source": [
    "### Sanity Checks\n",
    "\n",
    "#### Missing Values"
   ]
  },
  {
   "cell_type": "code",
   "execution_count": 8,
   "metadata": {},
   "outputs": [
    {
     "data": {
      "text/plain": [
       "dep_code      0\n",
       "dep_label     0\n",
       "com_code      0\n",
       "com_label     0\n",
       "registered    0\n",
       "absent        0\n",
       "no_vote       0\n",
       "choice_a      0\n",
       "choice_b      0\n",
       "dtype: int64"
      ]
     },
     "execution_count": 8,
     "metadata": {},
     "output_type": "execute_result"
    }
   ],
   "source": [
    "null_values = data.isnull().sum()\n",
    "null_values"
   ]
  },
  {
   "cell_type": "markdown",
   "metadata": {},
   "source": [
    "> We have a well cleaned dataset, with no null/missing values. "
   ]
  },
  {
   "cell_type": "markdown",
   "metadata": {},
   "source": [
    "#### Vote Count Consistency \n",
    "We also verify whether the columns containing the number of votes are consistent i.e. the sum of the number of voters for `choice_a`, `choice_b`, `absent` and `no_vote` must be equal to the total number of registed voters (`registered`)."
   ]
  },
  {
   "cell_type": "code",
   "execution_count": 9,
   "metadata": {},
   "outputs": [
    {
     "data": {
      "text/plain": [
       "dep_code      0\n",
       "dep_label     0\n",
       "com_code      0\n",
       "com_label     0\n",
       "registered    0\n",
       "absent        0\n",
       "no_vote       0\n",
       "choice_a      0\n",
       "choice_b      0\n",
       "dtype: int64"
      ]
     },
     "execution_count": 9,
     "metadata": {},
     "output_type": "execute_result"
    }
   ],
   "source": [
    "mask = (data[\"registered\"] == data[\"choice_a\"] + data[\"choice_b\"] + \n",
    "        data[\"absent\"] + data[\"no_vote\"] )\n",
    "data.loc[~mask].count()"
   ]
  },
  {
   "cell_type": "markdown",
   "metadata": {},
   "source": [
    "> Thus, there are no inconsistencies when it comes to the vote counts. "
   ]
  },
  {
   "cell_type": "markdown",
   "metadata": {},
   "source": [
    "### Frequency tables \n",
    "We turn our attention towards the categorical variables in our dataset. \n"
   ]
  },
  {
   "cell_type": "markdown",
   "metadata": {},
   "source": [
    "#### Departments\n",
    "We start by looking at the identification codes and names. "
   ]
  },
  {
   "cell_type": "code",
   "execution_count": 82,
   "metadata": {},
   "outputs": [
    {
     "data": {
      "text/plain": [
       "62    895\n",
       "2     816\n",
       "80    782\n",
       "76    744\n",
       "57    730\n",
       "     ... \n",
       "ZZ     11\n",
       "ZS      2\n",
       "ZX      2\n",
       "ZW      1\n",
       "75      1\n",
       "Name: dep_code, Length: 107, dtype: int64"
      ]
     },
     "execution_count": 82,
     "metadata": {},
     "output_type": "execute_result"
    }
   ],
   "source": [
    "data[\"dep_code\"].value_counts()"
   ]
  },
  {
   "cell_type": "code",
   "execution_count": 83,
   "metadata": {},
   "outputs": [
    {
     "data": {
      "text/plain": [
       "PAS DE CALAIS                    895\n",
       "AISNE                            816\n",
       "SOMME                            782\n",
       "SEINE MARITIME                   744\n",
       "MOSELLE                          730\n",
       "                                ... \n",
       "FRANCAIS DE L'ETRANGER            11\n",
       "SAINT PIERRE ET MIQUELON           2\n",
       "SAINT-MARTIN/SAINT-BARTHELEMY      2\n",
       "PARIS                              1\n",
       "WALLIS-ET-FUTUNA                   1\n",
       "Name: dep_label, Length: 107, dtype: int64"
      ]
     },
     "execution_count": 83,
     "metadata": {},
     "output_type": "execute_result"
    }
   ],
   "source": [
    "data[\"dep_label\"].value_counts()"
   ]
  },
  {
   "cell_type": "markdown",
   "metadata": {},
   "source": [
    "> Thus, we have 107 unique departments in our dataset, where several of them consist of hundreds of communes (e.g. *PAS DE CALAIS*, with its rows displayed below). "
   ]
  },
  {
   "cell_type": "code",
   "execution_count": 86,
   "metadata": {},
   "outputs": [
    {
     "data": {
      "text/html": [
       "<div>\n",
       "<style scoped>\n",
       "    .dataframe tbody tr th:only-of-type {\n",
       "        vertical-align: middle;\n",
       "    }\n",
       "\n",
       "    .dataframe tbody tr th {\n",
       "        vertical-align: top;\n",
       "    }\n",
       "\n",
       "    .dataframe thead th {\n",
       "        text-align: right;\n",
       "    }\n",
       "</style>\n",
       "<table border=\"1\" class=\"dataframe\">\n",
       "  <thead>\n",
       "    <tr style=\"text-align: right;\">\n",
       "      <th></th>\n",
       "      <th>dep_code</th>\n",
       "      <th>dep_label</th>\n",
       "      <th>com_code</th>\n",
       "      <th>com_label</th>\n",
       "      <th>registered</th>\n",
       "      <th>absent</th>\n",
       "      <th>no_vote</th>\n",
       "      <th>choice_a</th>\n",
       "      <th>choice_b</th>\n",
       "    </tr>\n",
       "  </thead>\n",
       "  <tbody>\n",
       "    <tr>\n",
       "      <td>24894</td>\n",
       "      <td>62</td>\n",
       "      <td>PAS DE CALAIS</td>\n",
       "      <td>1</td>\n",
       "      <td>Ablain-Saint-Nazaire</td>\n",
       "      <td>1468</td>\n",
       "      <td>220</td>\n",
       "      <td>26</td>\n",
       "      <td>506</td>\n",
       "      <td>716</td>\n",
       "    </tr>\n",
       "    <tr>\n",
       "      <td>24895</td>\n",
       "      <td>62</td>\n",
       "      <td>PAS DE CALAIS</td>\n",
       "      <td>2</td>\n",
       "      <td>Ablainzevelle</td>\n",
       "      <td>156</td>\n",
       "      <td>12</td>\n",
       "      <td>4</td>\n",
       "      <td>56</td>\n",
       "      <td>84</td>\n",
       "    </tr>\n",
       "    <tr>\n",
       "      <td>24896</td>\n",
       "      <td>62</td>\n",
       "      <td>PAS DE CALAIS</td>\n",
       "      <td>3</td>\n",
       "      <td>Acheville</td>\n",
       "      <td>499</td>\n",
       "      <td>67</td>\n",
       "      <td>6</td>\n",
       "      <td>157</td>\n",
       "      <td>269</td>\n",
       "    </tr>\n",
       "    <tr>\n",
       "      <td>24897</td>\n",
       "      <td>62</td>\n",
       "      <td>PAS DE CALAIS</td>\n",
       "      <td>4</td>\n",
       "      <td>Achicourt</td>\n",
       "      <td>5927</td>\n",
       "      <td>995</td>\n",
       "      <td>88</td>\n",
       "      <td>2444</td>\n",
       "      <td>2400</td>\n",
       "    </tr>\n",
       "    <tr>\n",
       "      <td>24898</td>\n",
       "      <td>62</td>\n",
       "      <td>PAS DE CALAIS</td>\n",
       "      <td>5</td>\n",
       "      <td>Achiet-le-Grand</td>\n",
       "      <td>673</td>\n",
       "      <td>101</td>\n",
       "      <td>9</td>\n",
       "      <td>274</td>\n",
       "      <td>289</td>\n",
       "    </tr>\n",
       "  </tbody>\n",
       "</table>\n",
       "</div>"
      ],
      "text/plain": [
       "      dep_code      dep_label  com_code             com_label  registered  \\\n",
       "24894       62  PAS DE CALAIS         1  Ablain-Saint-Nazaire        1468   \n",
       "24895       62  PAS DE CALAIS         2         Ablainzevelle         156   \n",
       "24896       62  PAS DE CALAIS         3             Acheville         499   \n",
       "24897       62  PAS DE CALAIS         4             Achicourt        5927   \n",
       "24898       62  PAS DE CALAIS         5       Achiet-le-Grand         673   \n",
       "\n",
       "       absent  no_vote  choice_a  choice_b  \n",
       "24894     220       26       506       716  \n",
       "24895      12        4        56        84  \n",
       "24896      67        6       157       269  \n",
       "24897     995       88      2444      2400  \n",
       "24898     101        9       274       289  "
      ]
     },
     "execution_count": 86,
     "metadata": {},
     "output_type": "execute_result"
    }
   ],
   "source": [
    "data.loc[data[\"dep_label\"] == \"PAS DE CALAIS\"][:5]"
   ]
  },
  {
   "cell_type": "markdown",
   "metadata": {},
   "source": [
    "#### Communes\n",
    "We repeat the above exercise for the identification codes and names of the communes. "
   ]
  },
  {
   "cell_type": "code",
   "execution_count": 24,
   "metadata": {},
   "outputs": [
    {
     "data": {
      "text/plain": [
       "59     91\n",
       "77     91\n",
       "13     91\n",
       "58     91\n",
       "4      91\n",
       "       ..\n",
       "880     1\n",
       "848     1\n",
       "837     1\n",
       "869     1\n",
       "895     1\n",
       "Name: com_code, Length: 908, dtype: int64"
      ]
     },
     "execution_count": 24,
     "metadata": {},
     "output_type": "execute_result"
    }
   ],
   "source": [
    "data[\"com_code\"].value_counts()"
   ]
  },
  {
   "cell_type": "markdown",
   "metadata": {},
   "source": [
    "> We see that the commune codes are not unique, and several communes from different departments have identical identification codes. "
   ]
  },
  {
   "cell_type": "code",
   "execution_count": 37,
   "metadata": {},
   "outputs": [
    {
     "data": {
      "text/plain": [
       "Sainte-Colombe               14\n",
       "Saint-Sauveur                12\n",
       "Saint-Sulpice                11\n",
       "Beaulieu                     11\n",
       "Sainte-Marie                 11\n",
       "                             ..\n",
       "Raedersdorf                   1\n",
       "Démouville                    1\n",
       "Notre-Dame-de-la-Rouvière     1\n",
       "Léojac                        1\n",
       "Saint-Santin-Cantalès         1\n",
       "Name: com_label, Length: 34237, dtype: int64"
      ]
     },
     "execution_count": 37,
     "metadata": {},
     "output_type": "execute_result"
    }
   ],
   "source": [
    "data[\"com_label\"].value_counts()"
   ]
  },
  {
   "cell_type": "markdown",
   "metadata": {},
   "source": [
    "> Surprisingly (or not), even commune names are not unique to the commune. For example, several departments have a commune named *Sainte-Colombe*, as displayed below."
   ]
  },
  {
   "cell_type": "code",
   "execution_count": 85,
   "metadata": {},
   "outputs": [
    {
     "data": {
      "text/html": [
       "<div>\n",
       "<style scoped>\n",
       "    .dataframe tbody tr th:only-of-type {\n",
       "        vertical-align: middle;\n",
       "    }\n",
       "\n",
       "    .dataframe tbody tr th {\n",
       "        vertical-align: top;\n",
       "    }\n",
       "\n",
       "    .dataframe thead th {\n",
       "        text-align: right;\n",
       "    }\n",
       "</style>\n",
       "<table border=\"1\" class=\"dataframe\">\n",
       "  <thead>\n",
       "    <tr style=\"text-align: right;\">\n",
       "      <th></th>\n",
       "      <th>dep_code</th>\n",
       "      <th>dep_label</th>\n",
       "      <th>com_code</th>\n",
       "      <th>com_label</th>\n",
       "      <th>registered</th>\n",
       "      <th>absent</th>\n",
       "      <th>no_vote</th>\n",
       "      <th>choice_a</th>\n",
       "      <th>choice_b</th>\n",
       "    </tr>\n",
       "  </thead>\n",
       "  <tbody>\n",
       "    <tr>\n",
       "      <td>1883</td>\n",
       "      <td>5</td>\n",
       "      <td>HAUTES ALPES</td>\n",
       "      <td>135</td>\n",
       "      <td>Sainte-Colombe</td>\n",
       "      <td>60</td>\n",
       "      <td>11</td>\n",
       "      <td>2</td>\n",
       "      <td>37</td>\n",
       "      <td>10</td>\n",
       "    </tr>\n",
       "    <tr>\n",
       "      <td>5784</td>\n",
       "      <td>16</td>\n",
       "      <td>CHARENTE</td>\n",
       "      <td>309</td>\n",
       "      <td>Sainte-Colombe</td>\n",
       "      <td>139</td>\n",
       "      <td>21</td>\n",
       "      <td>7</td>\n",
       "      <td>55</td>\n",
       "      <td>56</td>\n",
       "    </tr>\n",
       "    <tr>\n",
       "      <td>6203</td>\n",
       "      <td>17</td>\n",
       "      <td>CHARENTE MARITIME</td>\n",
       "      <td>319</td>\n",
       "      <td>Sainte-Colombe</td>\n",
       "      <td>101</td>\n",
       "      <td>23</td>\n",
       "      <td>0</td>\n",
       "      <td>53</td>\n",
       "      <td>25</td>\n",
       "    </tr>\n",
       "    <tr>\n",
       "      <td>7837</td>\n",
       "      <td>21</td>\n",
       "      <td>COTE D'OR</td>\n",
       "      <td>544</td>\n",
       "      <td>Sainte-Colombe</td>\n",
       "      <td>49</td>\n",
       "      <td>5</td>\n",
       "      <td>3</td>\n",
       "      <td>16</td>\n",
       "      <td>25</td>\n",
       "    </tr>\n",
       "    <tr>\n",
       "      <td>9676</td>\n",
       "      <td>25</td>\n",
       "      <td>DOUBS</td>\n",
       "      <td>515</td>\n",
       "      <td>Sainte-Colombe</td>\n",
       "      <td>252</td>\n",
       "      <td>27</td>\n",
       "      <td>1</td>\n",
       "      <td>88</td>\n",
       "      <td>136</td>\n",
       "    </tr>\n",
       "  </tbody>\n",
       "</table>\n",
       "</div>"
      ],
      "text/plain": [
       "     dep_code          dep_label  com_code       com_label  registered  \\\n",
       "1883        5       HAUTES ALPES       135  Sainte-Colombe          60   \n",
       "5784       16           CHARENTE       309  Sainte-Colombe         139   \n",
       "6203       17  CHARENTE MARITIME       319  Sainte-Colombe         101   \n",
       "7837       21          COTE D'OR       544  Sainte-Colombe          49   \n",
       "9676       25              DOUBS       515  Sainte-Colombe         252   \n",
       "\n",
       "      absent  no_vote  choice_a  choice_b  \n",
       "1883      11        2        37        10  \n",
       "5784      21        7        55        56  \n",
       "6203      23        0        53        25  \n",
       "7837       5        3        16        25  \n",
       "9676      27        1        88       136  "
      ]
     },
     "execution_count": 85,
     "metadata": {},
     "output_type": "execute_result"
    }
   ],
   "source": [
    "data.loc[data[\"com_label\"] == \"Sainte-Colombe\"][:5]"
   ]
  },
  {
   "cell_type": "markdown",
   "metadata": {},
   "source": [
    "### Descriptive Statistics \n",
    "\n",
    "We take a quick look at the descriptive statistics for the numerical columns. "
   ]
  },
  {
   "cell_type": "code",
   "execution_count": 10,
   "metadata": {},
   "outputs": [
    {
     "data": {
      "text/html": [
       "<div>\n",
       "<style scoped>\n",
       "    .dataframe tbody tr th:only-of-type {\n",
       "        vertical-align: middle;\n",
       "    }\n",
       "\n",
       "    .dataframe tbody tr th {\n",
       "        vertical-align: top;\n",
       "    }\n",
       "\n",
       "    .dataframe thead th {\n",
       "        text-align: right;\n",
       "    }\n",
       "</style>\n",
       "<table border=\"1\" class=\"dataframe\">\n",
       "  <thead>\n",
       "    <tr style=\"text-align: right;\">\n",
       "      <th></th>\n",
       "      <th>com_code</th>\n",
       "      <th>registered</th>\n",
       "      <th>absent</th>\n",
       "      <th>no_vote</th>\n",
       "      <th>choice_a</th>\n",
       "      <th>choice_b</th>\n",
       "    </tr>\n",
       "  </thead>\n",
       "  <tbody>\n",
       "    <tr>\n",
       "      <th>count</th>\n",
       "      <td>36791.000000</td>\n",
       "      <td>3.679100e+04</td>\n",
       "      <td>36791.000000</td>\n",
       "      <td>36791.000000</td>\n",
       "      <td>36791.000000</td>\n",
       "      <td>36791.000000</td>\n",
       "    </tr>\n",
       "    <tr>\n",
       "      <th>mean</th>\n",
       "      <td>251.665217</td>\n",
       "      <td>1.251082e+03</td>\n",
       "      <td>256.697100</td>\n",
       "      <td>19.058737</td>\n",
       "      <td>426.723383</td>\n",
       "      <td>548.602348</td>\n",
       "    </tr>\n",
       "    <tr>\n",
       "      <th>std</th>\n",
       "      <td>181.696562</td>\n",
       "      <td>8.595773e+03</td>\n",
       "      <td>2075.420552</td>\n",
       "      <td>96.750220</td>\n",
       "      <td>3303.009008</td>\n",
       "      <td>3346.575020</td>\n",
       "    </tr>\n",
       "    <tr>\n",
       "      <th>min</th>\n",
       "      <td>1.000000</td>\n",
       "      <td>6.000000e+00</td>\n",
       "      <td>0.000000</td>\n",
       "      <td>0.000000</td>\n",
       "      <td>0.000000</td>\n",
       "      <td>0.000000</td>\n",
       "    </tr>\n",
       "    <tr>\n",
       "      <th>25%</th>\n",
       "      <td>105.000000</td>\n",
       "      <td>1.600000e+02</td>\n",
       "      <td>23.000000</td>\n",
       "      <td>2.000000</td>\n",
       "      <td>49.000000</td>\n",
       "      <td>81.000000</td>\n",
       "    </tr>\n",
       "    <tr>\n",
       "      <th>50%</th>\n",
       "      <td>218.000000</td>\n",
       "      <td>3.370000e+02</td>\n",
       "      <td>49.000000</td>\n",
       "      <td>6.000000</td>\n",
       "      <td>108.000000</td>\n",
       "      <td>169.000000</td>\n",
       "    </tr>\n",
       "    <tr>\n",
       "      <th>75%</th>\n",
       "      <td>361.000000</td>\n",
       "      <td>8.070000e+02</td>\n",
       "      <td>120.000000</td>\n",
       "      <td>14.000000</td>\n",
       "      <td>268.000000</td>\n",
       "      <td>402.000000</td>\n",
       "    </tr>\n",
       "    <tr>\n",
       "      <th>max</th>\n",
       "      <td>909.000000</td>\n",
       "      <td>1.253322e+06</td>\n",
       "      <td>248755.000000</td>\n",
       "      <td>12093.000000</td>\n",
       "      <td>506594.000000</td>\n",
       "      <td>485880.000000</td>\n",
       "    </tr>\n",
       "  </tbody>\n",
       "</table>\n",
       "</div>"
      ],
      "text/plain": [
       "           com_code    registered         absent       no_vote       choice_a  \\\n",
       "count  36791.000000  3.679100e+04   36791.000000  36791.000000   36791.000000   \n",
       "mean     251.665217  1.251082e+03     256.697100     19.058737     426.723383   \n",
       "std      181.696562  8.595773e+03    2075.420552     96.750220    3303.009008   \n",
       "min        1.000000  6.000000e+00       0.000000      0.000000       0.000000   \n",
       "25%      105.000000  1.600000e+02      23.000000      2.000000      49.000000   \n",
       "50%      218.000000  3.370000e+02      49.000000      6.000000     108.000000   \n",
       "75%      361.000000  8.070000e+02     120.000000     14.000000     268.000000   \n",
       "max      909.000000  1.253322e+06  248755.000000  12093.000000  506594.000000   \n",
       "\n",
       "            choice_b  \n",
       "count   36791.000000  \n",
       "mean      548.602348  \n",
       "std      3346.575020  \n",
       "min         0.000000  \n",
       "25%        81.000000  \n",
       "50%       169.000000  \n",
       "75%       402.000000  \n",
       "max    485880.000000  "
      ]
     },
     "execution_count": 10,
     "metadata": {},
     "output_type": "execute_result"
    }
   ],
   "source": [
    "data.describe()"
   ]
  },
  {
   "cell_type": "markdown",
   "metadata": {},
   "source": [
    "> There are a couple of quick observations : \n",
    ">1. All numerical attributes (except `com_code`, identification codes are not statistically relevant) displays a lot of variability. The standard deviation is each case is several times the mean, which hints that the underlying distributions are not *normal* (Gaussian), but instead have long tails. \n",
    ">2. There are communes where none of the people voted (0 votes for `choice_a` or `choice_b`) for one of the options on the table. It might be interesting to identify these communes, and figure out why this is the case. \n",
    "\n",
    "#### Distributions \n",
    "To illustrate the first point about the outliers near the tail, we plot the following distributions. "
   ]
  },
  {
   "cell_type": "code",
   "execution_count": 19,
   "metadata": {},
   "outputs": [
    {
     "data": {
      "image/png": "[encoded data removed]",
      "text/plain": [
       "<Figure size 1440x1080 with 6 Axes>"
      ]
     },
     "metadata": {
      "needs_background": "light"
     },
     "output_type": "display_data"
    }
   ],
   "source": [
    "data_without_code = data.drop(\"com_code\", axis=1)\n",
    "data_without_code.hist(bins=50, figsize=(20,15));"
   ]
  },
  {
   "cell_type": "markdown",
   "metadata": {},
   "source": [
    "### Modifying and Adding Columns\n",
    "\n",
    "In order to get get a better sense of how the votes in each commune are distributed, we convert the values in columns `choice_a`, `choice_b`, `no_vote` and `absent` as percentages with respect to the total registered voters in the commune. "
   ]
  },
  {
   "cell_type": "code",
   "execution_count": 40,
   "metadata": {},
   "outputs": [],
   "source": [
    "# create a modified dataset starting from the copy of the original\n",
    "data_mod = data.copy()\n",
    "\n",
    "# convert votes to percentage of total registered voters in commune\n",
    "for col in [\"choice_a\",\"choice_b\",\"no_vote\",\"absent\"]:\n",
    "    data_mod[col] = 100.0*(data_mod[col] / data_mod[\"registered\"])"
   ]
  },
  {
   "cell_type": "markdown",
   "metadata": {},
   "source": [
    "Now we add a column that represents the total registered voters in each commune as a percentage of the total number of voters in the dataset. "
   ]
  },
  {
   "cell_type": "code",
   "execution_count": 41,
   "metadata": {},
   "outputs": [],
   "source": [
    "# add column denoting % of the registered voters in commune compared to total \n",
    "data_mod[\"registered_pc\"] = 100.0*(data_mod[\"registered\"] / data_mod[\"registered\"].sum())"
   ]
  },
  {
   "cell_type": "markdown",
   "metadata": {},
   "source": [
    "We create a column which denotes the outcome of the referendum in each commune. The rules used for deciding the outcome are : \n",
    "* If choice A get more votes than choice B, blanks and absentees combined, choice A wins (`outcome == \"A\"`). \n",
    "* If choice B get more votes than choice A, blanks and absentees combined, choice B wins (`outcome == \"B\"`).\n",
    "* If neither of the above rules apply, the outcome is null and void (`outcome == \"N\"`)."
   ]
  },
  {
   "cell_type": "code",
   "execution_count": 42,
   "metadata": {},
   "outputs": [],
   "source": [
    "# add column denoting outcome of the referendum in given commune\n",
    "data_mod[\"outcome\"] = \"N\" \n",
    "\n",
    "# creating boolean masks for choosing if A or B won the referendum\n",
    "mask_A = (data_mod[\"choice_a\"] > (data_mod[\"choice_b\"] + data_mod[\"no_vote\"] + data_mod[\"absent\"]))\n",
    "mask_B = (data_mod[\"choice_b\"] > (data_mod[\"choice_a\"] + data_mod[\"no_vote\"] + data_mod[\"absent\"]))\n",
    "\n",
    "# Replacing N with winners A or B\n",
    "data_mod.loc[mask_A , \"outcome\"] = \"A\"\n",
    "data_mod.loc[mask_B , \"outcome\"] = \"B\""
   ]
  },
  {
   "cell_type": "markdown",
   "metadata": {},
   "source": [
    "We can quickly check the outcome of the referendum for all the communes combined."
   ]
  },
  {
   "cell_type": "code",
   "execution_count": 39,
   "metadata": {},
   "outputs": [
    {
     "data": {
      "text/plain": [
       "B    19288\n",
       "N    16123\n",
       "A     1380\n",
       "Name: outcome, dtype: int64"
      ]
     },
     "execution_count": 39,
     "metadata": {},
     "output_type": "execute_result"
    }
   ],
   "source": [
    "data_mod[\"outcome\"].value_counts()"
   ]
  },
  {
   "cell_type": "markdown",
   "metadata": {},
   "source": [
    "> Thus, choice B seems to be the clear winner, winning in 19288 communes versus 1380 communes for choice A. "
   ]
  },
  {
   "cell_type": "code",
   "execution_count": 107,
   "metadata": {},
   "outputs": [
    {
     "data": {
      "text/html": [
       "<div>\n",
       "<style scoped>\n",
       "    .dataframe tbody tr th:only-of-type {\n",
       "        vertical-align: middle;\n",
       "    }\n",
       "\n",
       "    .dataframe tbody tr th {\n",
       "        vertical-align: top;\n",
       "    }\n",
       "\n",
       "    .dataframe thead th {\n",
       "        text-align: right;\n",
       "    }\n",
       "</style>\n",
       "<table border=\"1\" class=\"dataframe\">\n",
       "  <thead>\n",
       "    <tr style=\"text-align: right;\">\n",
       "      <th></th>\n",
       "      <th>0</th>\n",
       "      <th>1</th>\n",
       "      <th>2</th>\n",
       "      <th>3</th>\n",
       "      <th>4</th>\n",
       "    </tr>\n",
       "  </thead>\n",
       "  <tbody>\n",
       "    <tr>\n",
       "      <th>dep_code</th>\n",
       "      <td>1</td>\n",
       "      <td>1</td>\n",
       "      <td>1</td>\n",
       "      <td>1</td>\n",
       "      <td>1</td>\n",
       "    </tr>\n",
       "    <tr>\n",
       "      <th>dep_label</th>\n",
       "      <td>AIN</td>\n",
       "      <td>AIN</td>\n",
       "      <td>AIN</td>\n",
       "      <td>AIN</td>\n",
       "      <td>AIN</td>\n",
       "    </tr>\n",
       "    <tr>\n",
       "      <th>com_code</th>\n",
       "      <td>1</td>\n",
       "      <td>2</td>\n",
       "      <td>4</td>\n",
       "      <td>5</td>\n",
       "      <td>6</td>\n",
       "    </tr>\n",
       "    <tr>\n",
       "      <th>com_label</th>\n",
       "      <td>L'Abergement-Clémenciat</td>\n",
       "      <td>L'Abergement-de-Varey</td>\n",
       "      <td>Ambérieu-en-Bugey</td>\n",
       "      <td>Ambérieux-en-Dombes</td>\n",
       "      <td>Ambléon</td>\n",
       "    </tr>\n",
       "    <tr>\n",
       "      <th>registered</th>\n",
       "      <td>592</td>\n",
       "      <td>215</td>\n",
       "      <td>8205</td>\n",
       "      <td>1152</td>\n",
       "      <td>105</td>\n",
       "    </tr>\n",
       "    <tr>\n",
       "      <th>absent</th>\n",
       "      <td>14.189189</td>\n",
       "      <td>16.744186</td>\n",
       "      <td>20.694698</td>\n",
       "      <td>14.756944</td>\n",
       "      <td>16.190476</td>\n",
       "    </tr>\n",
       "    <tr>\n",
       "      <th>no_vote</th>\n",
       "      <td>1.52027</td>\n",
       "      <td>2.325581</td>\n",
       "      <td>1.535649</td>\n",
       "      <td>1.5625</td>\n",
       "      <td>0.952381</td>\n",
       "    </tr>\n",
       "    <tr>\n",
       "      <th>choice_a</th>\n",
       "      <td>26.013514</td>\n",
       "      <td>30.697674</td>\n",
       "      <td>33.113955</td>\n",
       "      <td>24.305556</td>\n",
       "      <td>33.333333</td>\n",
       "    </tr>\n",
       "    <tr>\n",
       "      <th>choice_b</th>\n",
       "      <td>58.277027</td>\n",
       "      <td>50.232558</td>\n",
       "      <td>44.655698</td>\n",
       "      <td>59.375</td>\n",
       "      <td>49.52381</td>\n",
       "    </tr>\n",
       "    <tr>\n",
       "      <th>registered_pc</th>\n",
       "      <td>0.001286</td>\n",
       "      <td>0.000467</td>\n",
       "      <td>0.017826</td>\n",
       "      <td>0.002503</td>\n",
       "      <td>0.000228</td>\n",
       "    </tr>\n",
       "    <tr>\n",
       "      <th>outcome</th>\n",
       "      <td>B</td>\n",
       "      <td>B</td>\n",
       "      <td>N</td>\n",
       "      <td>B</td>\n",
       "      <td>N</td>\n",
       "    </tr>\n",
       "  </tbody>\n",
       "</table>\n",
       "</div>"
      ],
      "text/plain": [
       "                                     0                      1  \\\n",
       "dep_code                             1                      1   \n",
       "dep_label                          AIN                    AIN   \n",
       "com_code                             1                      2   \n",
       "com_label      L'Abergement-Clémenciat  L'Abergement-de-Varey   \n",
       "registered                         592                    215   \n",
       "absent                       14.189189              16.744186   \n",
       "no_vote                        1.52027               2.325581   \n",
       "choice_a                     26.013514              30.697674   \n",
       "choice_b                     58.277027              50.232558   \n",
       "registered_pc                 0.001286               0.000467   \n",
       "outcome                              B                      B   \n",
       "\n",
       "                               2                    3          4  \n",
       "dep_code                       1                    1          1  \n",
       "dep_label                    AIN                  AIN        AIN  \n",
       "com_code                       4                    5          6  \n",
       "com_label      Ambérieu-en-Bugey  Ambérieux-en-Dombes    Ambléon  \n",
       "registered                  8205                 1152        105  \n",
       "absent                 20.694698            14.756944  16.190476  \n",
       "no_vote                 1.535649               1.5625   0.952381  \n",
       "choice_a               33.113955            24.305556  33.333333  \n",
       "choice_b               44.655698               59.375   49.52381  \n",
       "registered_pc           0.017826             0.002503   0.000228  \n",
       "outcome                        N                    B          N  "
      ]
     },
     "execution_count": 107,
     "metadata": {},
     "output_type": "execute_result"
    }
   ],
   "source": [
    "data_mod.head().transpose()"
   ]
  },
  {
   "cell_type": "markdown",
   "metadata": {},
   "source": [
    "We also take a look at the distribution of percentage of votes for choice A and choice B, across all communes. "
   ]
  },
  {
   "cell_type": "code",
   "execution_count": 143,
   "metadata": {},
   "outputs": [
    {
     "data": {
      "image/png": "[encoded data removed]",
      "text/plain": [
       "<Figure size 720x576 with 1 Axes>"
      ]
     },
     "metadata": {
      "needs_background": "light"
     },
     "output_type": "display_data"
    }
   ],
   "source": [
    "fig, ax = plt.subplots(figsize=(10,8));\n",
    "sns.histplot(data_mod, x=\"choice_a\", bins=range(1, 100, 5), kde=True, legend=True, color=\"red\", alpha=0.2, ax=ax);\n",
    "sns.histplot(data_mod, x=\"choice_b\", bins=range(1, 100, 5), kde=True, legend=True, color=\"green\", alpha=0.2, ax=ax);\n",
    "ax.legend([\"Choice A\", \"Choice B\"], fontsize = 14);\n",
    "ax.set_xlabel(\"Percentage of votes in commune\", fontsize=14);\n",
    "ax.set_ylabel(\"Number of Communes\", fontsize=14);"
   ]
  },
  {
   "cell_type": "code",
   "execution_count": 105,
   "metadata": {},
   "outputs": [
    {
     "data": {
      "image/png": "[encoded data removed]",
      "text/plain": [
       "<Figure size 720x576 with 1 Axes>"
      ]
     },
     "metadata": {
      "needs_background": "light"
     },
     "output_type": "display_data"
    }
   ],
   "source": [
    "fig, ax = plt.subplots(figsize=(10,8));\n",
    "sns.histplot(data_mod, x=\"no_vote\", bins=range(1, 100, 5), kde=True, legend=True, color=\"red\", alpha=0.2, ax=ax);\n",
    "sns.histplot(data_mod, x=\"absent\", bins=range(1, 100, 5), kde=True, legend=True, color=\"green\", alpha=0.2, ax=ax);\n",
    "ax.legend([\"Blank Votes\", \"Absent\"], fontsize=14);\n",
    "ax.set_xlabel(\"Percentage of votes in commune\", fontsize=14);\n",
    "ax.set_ylabel(\"Number of Communes\", fontsize=14);"
   ]
  },
  {
   "cell_type": "markdown",
   "metadata": {},
   "source": [
    "### Departments"
   ]
  },
  {
   "cell_type": "code",
   "execution_count": 130,
   "metadata": {},
   "outputs": [
    {
     "data": {
      "text/html": [
       "<div>\n",
       "<style scoped>\n",
       "    .dataframe tbody tr th:only-of-type {\n",
       "        vertical-align: middle;\n",
       "    }\n",
       "\n",
       "    .dataframe tbody tr th {\n",
       "        vertical-align: top;\n",
       "    }\n",
       "\n",
       "    .dataframe thead th {\n",
       "        text-align: right;\n",
       "    }\n",
       "</style>\n",
       "<table border=\"1\" class=\"dataframe\">\n",
       "  <thead>\n",
       "    <tr style=\"text-align: right;\">\n",
       "      <th></th>\n",
       "      <th>absent</th>\n",
       "      <th>choice_a</th>\n",
       "      <th>choice_b</th>\n",
       "      <th>no_vote</th>\n",
       "      <th>registered</th>\n",
       "    </tr>\n",
       "    <tr>\n",
       "      <th>dep_label</th>\n",
       "      <th></th>\n",
       "      <th></th>\n",
       "      <th></th>\n",
       "      <th></th>\n",
       "      <th></th>\n",
       "    </tr>\n",
       "  </thead>\n",
       "  <tbody>\n",
       "    <tr>\n",
       "      <th>AIN</th>\n",
       "      <td>65996</td>\n",
       "      <td>116379</td>\n",
       "      <td>204980</td>\n",
       "      <td>6453</td>\n",
       "      <td>393808</td>\n",
       "    </tr>\n",
       "    <tr>\n",
       "      <th>AISNE</th>\n",
       "      <td>72928</td>\n",
       "      <td>120916</td>\n",
       "      <td>177028</td>\n",
       "      <td>5196</td>\n",
       "      <td>376068</td>\n",
       "    </tr>\n",
       "    <tr>\n",
       "      <th>ALLIER</th>\n",
       "      <td>45266</td>\n",
       "      <td>96398</td>\n",
       "      <td>109552</td>\n",
       "      <td>5059</td>\n",
       "      <td>256275</td>\n",
       "    </tr>\n",
       "    <tr>\n",
       "      <th>ALPES DE HAUTE PROVENCE</th>\n",
       "      <td>21034</td>\n",
       "      <td>44634</td>\n",
       "      <td>56154</td>\n",
       "      <td>2111</td>\n",
       "      <td>123933</td>\n",
       "    </tr>\n",
       "    <tr>\n",
       "      <th>ALPES MARITIMES</th>\n",
       "      <td>153383</td>\n",
       "      <td>179663</td>\n",
       "      <td>403179</td>\n",
       "      <td>9063</td>\n",
       "      <td>745288</td>\n",
       "    </tr>\n",
       "  </tbody>\n",
       "</table>\n",
       "</div>"
      ],
      "text/plain": [
       "                         absent  choice_a  choice_b  no_vote  registered\n",
       "dep_label                                                               \n",
       "AIN                       65996    116379    204980     6453      393808\n",
       "AISNE                     72928    120916    177028     5196      376068\n",
       "ALLIER                    45266     96398    109552     5059      256275\n",
       "ALPES DE HAUTE PROVENCE   21034     44634     56154     2111      123933\n",
       "ALPES MARITIMES          153383    179663    403179     9063      745288"
      ]
     },
     "execution_count": 130,
     "metadata": {},
     "output_type": "execute_result"
    }
   ],
   "source": [
    "col_list = [\"registered\",\"choice_a\", \"choice_b\", \"no_vote\", \"absent\"]\n",
    "departments = data.pivot_table(values=col_list, index=\"dep_label\" , aggfunc=np.sum)\n",
    "departments.head()"
   ]
  },
  {
   "cell_type": "code",
   "execution_count": 131,
   "metadata": {},
   "outputs": [
    {
     "data": {
      "text/html": [
       "<div>\n",
       "<style scoped>\n",
       "    .dataframe tbody tr th:only-of-type {\n",
       "        vertical-align: middle;\n",
       "    }\n",
       "\n",
       "    .dataframe tbody tr th {\n",
       "        vertical-align: top;\n",
       "    }\n",
       "\n",
       "    .dataframe thead th {\n",
       "        text-align: right;\n",
       "    }\n",
       "</style>\n",
       "<table border=\"1\" class=\"dataframe\">\n",
       "  <thead>\n",
       "    <tr style=\"text-align: right;\">\n",
       "      <th></th>\n",
       "      <th>absent</th>\n",
       "      <th>choice_a</th>\n",
       "      <th>choice_b</th>\n",
       "      <th>no_vote</th>\n",
       "      <th>registered</th>\n",
       "    </tr>\n",
       "  </thead>\n",
       "  <tbody>\n",
       "    <tr>\n",
       "      <th>count</th>\n",
       "      <td>107.000000</td>\n",
       "      <td>107.000000</td>\n",
       "      <td>107.000000</td>\n",
       "      <td>107.000000</td>\n",
       "      <td>1.070000e+02</td>\n",
       "    </tr>\n",
       "    <tr>\n",
       "      <th>mean</th>\n",
       "      <td>88263.018692</td>\n",
       "      <td>146725.046729</td>\n",
       "      <td>188632.046729</td>\n",
       "      <td>6553.177570</td>\n",
       "      <td>4.301733e+05</td>\n",
       "    </tr>\n",
       "    <tr>\n",
       "      <th>std</th>\n",
       "      <td>85055.664973</td>\n",
       "      <td>113560.726380</td>\n",
       "      <td>141296.627664</td>\n",
       "      <td>4280.043078</td>\n",
       "      <td>3.217624e+05</td>\n",
       "    </tr>\n",
       "    <tr>\n",
       "      <th>min</th>\n",
       "      <td>2193.000000</td>\n",
       "      <td>1456.000000</td>\n",
       "      <td>1175.000000</td>\n",
       "      <td>39.000000</td>\n",
       "      <td>4.923000e+03</td>\n",
       "    </tr>\n",
       "    <tr>\n",
       "      <th>25%</th>\n",
       "      <td>36542.000000</td>\n",
       "      <td>63893.000000</td>\n",
       "      <td>84246.500000</td>\n",
       "      <td>3427.500000</td>\n",
       "      <td>1.874765e+05</td>\n",
       "    </tr>\n",
       "    <tr>\n",
       "      <th>50%</th>\n",
       "      <td>64453.000000</td>\n",
       "      <td>117554.000000</td>\n",
       "      <td>151728.000000</td>\n",
       "      <td>5434.000000</td>\n",
       "      <td>3.530560e+05</td>\n",
       "    </tr>\n",
       "    <tr>\n",
       "      <th>75%</th>\n",
       "      <td>107271.000000</td>\n",
       "      <td>185595.500000</td>\n",
       "      <td>261541.000000</td>\n",
       "      <td>9467.000000</td>\n",
       "      <td>5.544165e+05</td>\n",
       "    </tr>\n",
       "    <tr>\n",
       "      <th>max</th>\n",
       "      <td>635882.000000</td>\n",
       "      <td>605167.000000</td>\n",
       "      <td>765932.000000</td>\n",
       "      <td>24737.000000</td>\n",
       "      <td>1.792359e+06</td>\n",
       "    </tr>\n",
       "  </tbody>\n",
       "</table>\n",
       "</div>"
      ],
      "text/plain": [
       "              absent       choice_a       choice_b       no_vote    registered\n",
       "count     107.000000     107.000000     107.000000    107.000000  1.070000e+02\n",
       "mean    88263.018692  146725.046729  188632.046729   6553.177570  4.301733e+05\n",
       "std     85055.664973  113560.726380  141296.627664   4280.043078  3.217624e+05\n",
       "min      2193.000000    1456.000000    1175.000000     39.000000  4.923000e+03\n",
       "25%     36542.000000   63893.000000   84246.500000   3427.500000  1.874765e+05\n",
       "50%     64453.000000  117554.000000  151728.000000   5434.000000  3.530560e+05\n",
       "75%    107271.000000  185595.500000  261541.000000   9467.000000  5.544165e+05\n",
       "max    635882.000000  605167.000000  765932.000000  24737.000000  1.792359e+06"
      ]
     },
     "execution_count": 131,
     "metadata": {},
     "output_type": "execute_result"
    }
   ],
   "source": [
    "departments.describe()"
   ]
  },
  {
   "cell_type": "code",
   "execution_count": 132,
   "metadata": {},
   "outputs": [
    {
     "data": {
      "image/png": "[encoded data removed]",
      "text/plain": [
       "<Figure size 576x504 with 1 Axes>"
      ]
     },
     "metadata": {
      "needs_background": "light"
     },
     "output_type": "display_data"
    }
   ],
   "source": [
    "fig, ax = plt.subplots(figsize=(8,7));\n",
    "sns.histplot(departments, x=\"registered\", kde=True, legend=True, color=\"green\", alpha=0.2, ax=ax);\n",
    "ax.set_xlabel(\"Number of Registered Voters in Department\", fontsize=14);\n",
    "ax.set_ylabel(\"Number of Departments\", fontsize=14);"
   ]
  },
  {
   "cell_type": "code",
   "execution_count": 134,
   "metadata": {},
   "outputs": [
    {
     "data": {
      "text/html": [
       "<div>\n",
       "<style scoped>\n",
       "    .dataframe tbody tr th:only-of-type {\n",
       "        vertical-align: middle;\n",
       "    }\n",
       "\n",
       "    .dataframe tbody tr th {\n",
       "        vertical-align: top;\n",
       "    }\n",
       "\n",
       "    .dataframe thead th {\n",
       "        text-align: right;\n",
       "    }\n",
       "</style>\n",
       "<table border=\"1\" class=\"dataframe\">\n",
       "  <thead>\n",
       "    <tr style=\"text-align: right;\">\n",
       "      <th></th>\n",
       "      <th>absent</th>\n",
       "      <th>choice_a</th>\n",
       "      <th>choice_b</th>\n",
       "      <th>no_vote</th>\n",
       "      <th>registered</th>\n",
       "      <th>outcome</th>\n",
       "    </tr>\n",
       "    <tr>\n",
       "      <th>dep_label</th>\n",
       "      <th></th>\n",
       "      <th></th>\n",
       "      <th></th>\n",
       "      <th></th>\n",
       "      <th></th>\n",
       "      <th></th>\n",
       "    </tr>\n",
       "  </thead>\n",
       "  <tbody>\n",
       "    <tr>\n",
       "      <th>AIN</th>\n",
       "      <td>65996</td>\n",
       "      <td>116379</td>\n",
       "      <td>204980</td>\n",
       "      <td>6453</td>\n",
       "      <td>393808</td>\n",
       "      <td>B</td>\n",
       "    </tr>\n",
       "    <tr>\n",
       "      <th>AISNE</th>\n",
       "      <td>72928</td>\n",
       "      <td>120916</td>\n",
       "      <td>177028</td>\n",
       "      <td>5196</td>\n",
       "      <td>376068</td>\n",
       "      <td>N</td>\n",
       "    </tr>\n",
       "    <tr>\n",
       "      <th>ALLIER</th>\n",
       "      <td>45266</td>\n",
       "      <td>96398</td>\n",
       "      <td>109552</td>\n",
       "      <td>5059</td>\n",
       "      <td>256275</td>\n",
       "      <td>N</td>\n",
       "    </tr>\n",
       "    <tr>\n",
       "      <th>ALPES DE HAUTE PROVENCE</th>\n",
       "      <td>21034</td>\n",
       "      <td>44634</td>\n",
       "      <td>56154</td>\n",
       "      <td>2111</td>\n",
       "      <td>123933</td>\n",
       "      <td>N</td>\n",
       "    </tr>\n",
       "    <tr>\n",
       "      <th>ALPES MARITIMES</th>\n",
       "      <td>153383</td>\n",
       "      <td>179663</td>\n",
       "      <td>403179</td>\n",
       "      <td>9063</td>\n",
       "      <td>745288</td>\n",
       "      <td>B</td>\n",
       "    </tr>\n",
       "  </tbody>\n",
       "</table>\n",
       "</div>"
      ],
      "text/plain": [
       "                         absent  choice_a  choice_b  no_vote  registered  \\\n",
       "dep_label                                                                  \n",
       "AIN                       65996    116379    204980     6453      393808   \n",
       "AISNE                     72928    120916    177028     5196      376068   \n",
       "ALLIER                    45266     96398    109552     5059      256275   \n",
       "ALPES DE HAUTE PROVENCE   21034     44634     56154     2111      123933   \n",
       "ALPES MARITIMES          153383    179663    403179     9063      745288   \n",
       "\n",
       "                        outcome  \n",
       "dep_label                        \n",
       "AIN                           B  \n",
       "AISNE                         N  \n",
       "ALLIER                        N  \n",
       "ALPES DE HAUTE PROVENCE       N  \n",
       "ALPES MARITIMES               B  "
      ]
     },
     "execution_count": 134,
     "metadata": {},
     "output_type": "execute_result"
    }
   ],
   "source": [
    "departments[\"outcome\"] = \"N\" \n",
    "\n",
    "# creating boolean masks for choosing if A or B won the referendum in the department\n",
    "mask_A = (departments[\"choice_a\"] > (departments[\"choice_b\"] + departments[\"no_vote\"] + departments[\"absent\"]))\n",
    "mask_B = (departments[\"choice_b\"] > (departments[\"choice_a\"] + departments[\"no_vote\"] + departments[\"absent\"]))\n",
    "\n",
    "# Replacing N with winners A or B\n",
    "departments.loc[mask_A , \"outcome\"] = \"A\"\n",
    "departments.loc[mask_B , \"outcome\"] = \"B\"\n",
    "\n",
    "departments.head()"
   ]
  },
  {
   "cell_type": "code",
   "execution_count": 136,
   "metadata": {},
   "outputs": [
    {
     "data": {
      "text/plain": [
       "N    94\n",
       "B    13\n",
       "Name: outcome, dtype: int64"
      ]
     },
     "execution_count": 136,
     "metadata": {},
     "output_type": "execute_result"
    }
   ],
   "source": [
    "departments[\"outcome\"].value_counts()"
   ]
  },
  {
   "cell_type": "code",
   "execution_count": 139,
   "metadata": {},
   "outputs": [],
   "source": [
    "for col in [\"choice_a\",\"choice_b\",\"no_vote\",\"absent\"]:\n",
    "    departments[col] = 100.0*(departments[col] / departments[\"registered\"])"
   ]
  },
  {
   "cell_type": "code",
   "execution_count": 144,
   "metadata": {},
   "outputs": [
    {
     "data": {
      "image/png": "[encoded data removed]",
      "text/plain": [
       "<Figure size 720x576 with 1 Axes>"
      ]
     },
     "metadata": {
      "needs_background": "light"
     },
     "output_type": "display_data"
    }
   ],
   "source": [
    "fig, ax = plt.subplots(figsize=(10,8));\n",
    "sns.histplot(departments, x=\"choice_a\", bins=range(1, 100, 5), kde=True, legend=True, color=\"red\", alpha=0.2, ax=ax);\n",
    "sns.histplot(departments, x=\"choice_b\", bins=range(1, 100, 5), kde=True, legend=True, color=\"green\", alpha=0.2, ax=ax);\n",
    "ax.legend([\"Choice A\", \"Choice B\"], fontsize = 14);\n",
    "ax.set_xlabel(\"Percentage of votes in Department\", fontsize=14);\n",
    "ax.set_ylabel(\"Number of Departments\", fontsize=14);"
   ]
  },
  {
   "cell_type": "code",
   "execution_count": 154,
   "metadata": {},
   "outputs": [
    {
     "data": {
      "text/plain": [
       "2    66\n",
       "3    26\n",
       "1     8\n",
       "4     7\n",
       "Name: pop_cat, dtype: int64"
      ]
     },
     "execution_count": 154,
     "metadata": {},
     "output_type": "execute_result"
    }
   ],
   "source": [
    "departments[\"pop_cat\"] = pd.cut(departments[\"registered\"], bins=[0., 1e5, 5e5, 1e6, np.inf],labels=[1, 2, 3, 4])\n",
    "departments[\"pop_cat\"].value_counts()"
   ]
  },
  {
   "cell_type": "code",
   "execution_count": 155,
   "metadata": {},
   "outputs": [
    {
     "data": {
      "image/png": "[encoded data removed]",
      "text/plain": [
       "<Figure size 432x288 with 1 Axes>"
      ]
     },
     "metadata": {
      "needs_background": "light"
     },
     "output_type": "display_data"
    }
   ],
   "source": [
    "departments[\"pop_cat\"].hist();"
   ]
  },
  {
   "cell_type": "code",
   "execution_count": 179,
   "metadata": {},
   "outputs": [
    {
     "data": {
      "text/html": [
       "<div>\n",
       "<style scoped>\n",
       "    .dataframe tbody tr th:only-of-type {\n",
       "        vertical-align: middle;\n",
       "    }\n",
       "\n",
       "    .dataframe tbody tr th {\n",
       "        vertical-align: top;\n",
       "    }\n",
       "\n",
       "    .dataframe thead th {\n",
       "        text-align: right;\n",
       "    }\n",
       "</style>\n",
       "<table border=\"1\" class=\"dataframe\">\n",
       "  <thead>\n",
       "    <tr style=\"text-align: right;\">\n",
       "      <th></th>\n",
       "      <th>choice_a</th>\n",
       "      <th>choice_b</th>\n",
       "    </tr>\n",
       "    <tr>\n",
       "      <th>pop_cat</th>\n",
       "      <th></th>\n",
       "      <th></th>\n",
       "    </tr>\n",
       "  </thead>\n",
       "  <tbody>\n",
       "    <tr>\n",
       "      <th>1</th>\n",
       "      <td>29.419917</td>\n",
       "      <td>32.877871</td>\n",
       "    </tr>\n",
       "    <tr>\n",
       "      <th>2</th>\n",
       "      <td>34.445008</td>\n",
       "      <td>44.563778</td>\n",
       "    </tr>\n",
       "    <tr>\n",
       "      <th>3</th>\n",
       "      <td>34.017862</td>\n",
       "      <td>44.681837</td>\n",
       "    </tr>\n",
       "    <tr>\n",
       "      <th>4</th>\n",
       "      <td>32.973782</td>\n",
       "      <td>40.366996</td>\n",
       "    </tr>\n",
       "  </tbody>\n",
       "</table>\n",
       "</div>"
      ],
      "text/plain": [
       "          choice_a   choice_b\n",
       "pop_cat                      \n",
       "1        29.419917  32.877871\n",
       "2        34.445008  44.563778\n",
       "3        34.017862  44.681837\n",
       "4        32.973782  40.366996"
      ]
     },
     "execution_count": 179,
     "metadata": {},
     "output_type": "execute_result"
    }
   ],
   "source": [
    "col_list = [\"choice_a\", \"choice_b\"]\n",
    "dep_means = departments.pivot_table(values=col_list, index=\"pop_cat\" , aggfunc=np.mean)\n",
    "dep_means"
   ]
  },
  {
   "cell_type": "code",
   "execution_count": 205,
   "metadata": {},
   "outputs": [
    {
     "data": {
      "image/png": "[encoded data removed]",
      "text/plain": [
       "<Figure size 720x432 with 1 Axes>"
      ]
     },
     "metadata": {
      "needs_background": "light"
     },
     "output_type": "display_data"
    }
   ],
   "source": [
    "labels = [\"0 - 100K\", '100K - 500K', \"500K - 1M\", \" >1M \"]\n",
    "\n",
    "x = np.arange(len(labels)) \n",
    "width = 0.35       # the width of the bars: can also be len(x) sequence\n",
    "\n",
    "fig, ax = plt.subplots(figsize=(10,6))\n",
    "\n",
    "b1 = ax.bar(x - width/2.0, dep_means[\"choice_a\"], width, label='Choice A')\n",
    "b2 = ax.bar(x + width/2.0, dep_means[\"choice_b\"], width, label='Choice B')\n",
    "\n",
    "ax.set_title(\"Votes across departments belonging to different population categories\", fontsize =14)\n",
    "ax.set_ylabel('Average % of Votes', fontsize=14);\n",
    "ax.set_ylim(0,100);\n",
    "ax.set_xticks(x);\n",
    "ax.set_xticklabels(labels, fontsize=14);\n",
    "#ax.set_xticklabels(labels = labels, fontsize=14);\n",
    "ax.legend(fontsize=14);"
   ]
  },
  {
   "cell_type": "code",
   "execution_count": 217,
   "metadata": {},
   "outputs": [
    {
     "data": {
      "text/html": [
       "<div>\n",
       "<style scoped>\n",
       "    .dataframe tbody tr th:only-of-type {\n",
       "        vertical-align: middle;\n",
       "    }\n",
       "\n",
       "    .dataframe tbody tr th {\n",
       "        vertical-align: top;\n",
       "    }\n",
       "\n",
       "    .dataframe thead th {\n",
       "        text-align: right;\n",
       "    }\n",
       "</style>\n",
       "<table border=\"1\" class=\"dataframe\">\n",
       "  <thead>\n",
       "    <tr style=\"text-align: right;\">\n",
       "      <th></th>\n",
       "      <th>dep_code</th>\n",
       "      <th>dep_label</th>\n",
       "      <th>com_code</th>\n",
       "      <th>com_label</th>\n",
       "      <th>registered</th>\n",
       "      <th>absent</th>\n",
       "      <th>no_vote</th>\n",
       "      <th>choice_a</th>\n",
       "      <th>choice_b</th>\n",
       "      <th>dep_cat</th>\n",
       "    </tr>\n",
       "  </thead>\n",
       "  <tbody>\n",
       "    <tr>\n",
       "      <th>0</th>\n",
       "      <td>1</td>\n",
       "      <td>AIN</td>\n",
       "      <td>1</td>\n",
       "      <td>L'Abergement-Clémenciat</td>\n",
       "      <td>592</td>\n",
       "      <td>84</td>\n",
       "      <td>9</td>\n",
       "      <td>154</td>\n",
       "      <td>345</td>\n",
       "      <td>2</td>\n",
       "    </tr>\n",
       "    <tr>\n",
       "      <th>1</th>\n",
       "      <td>1</td>\n",
       "      <td>AIN</td>\n",
       "      <td>2</td>\n",
       "      <td>L'Abergement-de-Varey</td>\n",
       "      <td>215</td>\n",
       "      <td>36</td>\n",
       "      <td>5</td>\n",
       "      <td>66</td>\n",
       "      <td>108</td>\n",
       "      <td>2</td>\n",
       "    </tr>\n",
       "    <tr>\n",
       "      <th>2</th>\n",
       "      <td>1</td>\n",
       "      <td>AIN</td>\n",
       "      <td>4</td>\n",
       "      <td>Ambérieu-en-Bugey</td>\n",
       "      <td>8205</td>\n",
       "      <td>1698</td>\n",
       "      <td>126</td>\n",
       "      <td>2717</td>\n",
       "      <td>3664</td>\n",
       "      <td>2</td>\n",
       "    </tr>\n",
       "    <tr>\n",
       "      <th>3</th>\n",
       "      <td>1</td>\n",
       "      <td>AIN</td>\n",
       "      <td>5</td>\n",
       "      <td>Ambérieux-en-Dombes</td>\n",
       "      <td>1152</td>\n",
       "      <td>170</td>\n",
       "      <td>18</td>\n",
       "      <td>280</td>\n",
       "      <td>684</td>\n",
       "      <td>2</td>\n",
       "    </tr>\n",
       "    <tr>\n",
       "      <th>4</th>\n",
       "      <td>1</td>\n",
       "      <td>AIN</td>\n",
       "      <td>6</td>\n",
       "      <td>Ambléon</td>\n",
       "      <td>105</td>\n",
       "      <td>17</td>\n",
       "      <td>1</td>\n",
       "      <td>35</td>\n",
       "      <td>52</td>\n",
       "      <td>2</td>\n",
       "    </tr>\n",
       "  </tbody>\n",
       "</table>\n",
       "</div>"
      ],
      "text/plain": [
       "  dep_code dep_label  com_code                com_label  registered  absent  \\\n",
       "0        1       AIN         1  L'Abergement-Clémenciat         592      84   \n",
       "1        1       AIN         2    L'Abergement-de-Varey         215      36   \n",
       "2        1       AIN         4        Ambérieu-en-Bugey        8205    1698   \n",
       "3        1       AIN         5      Ambérieux-en-Dombes        1152     170   \n",
       "4        1       AIN         6                  Ambléon         105      17   \n",
       "\n",
       "   no_vote  choice_a  choice_b  dep_cat  \n",
       "0        9       154       345        2  \n",
       "1        5        66       108        2  \n",
       "2      126      2717      3664        2  \n",
       "3       18       280       684        2  \n",
       "4        1        35        52        2  "
      ]
     },
     "execution_count": 217,
     "metadata": {},
     "output_type": "execute_result"
    }
   ],
   "source": [
    "\n",
    "#departments.loc[\"AIN\", \"registered\"]\n",
    "data_new = data.copy()\n",
    "\n",
    "data_new[\"dep_cat\"] = 0\n",
    "\n",
    "for dep in departments.index:\n",
    "    mask = (data[\"dep_label\"] == dep )\n",
    "    data_new.loc[mask, \"dep_cat\"] = departments.loc[dep, \"pop_cat\"]\n",
    "\n",
    "data_new.head()"
   ]
  },
  {
   "cell_type": "markdown",
   "metadata": {},
   "source": [
    "### Splitting into train and test sets"
   ]
  }
 ],
 "metadata": {
  "kernelspec": {
   "display_name": "sgr",
   "language": "python",
   "name": "sgr"
  },
  "language_info": {
   "codemirror_mode": {
    "name": "ipython",
    "version": 3
   },
   "file_extension": ".py",
   "mimetype": "text/x-python",
   "name": "python",
   "nbconvert_exporter": "python",
   "pygments_lexer": "ipython3",
   "version": "3.7.9"
  }
 },
 "nbformat": 4,
 "nbformat_minor": 4
}
